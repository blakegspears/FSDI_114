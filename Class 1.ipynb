{
 "cells": [
  {
   "cell_type": "code",
   "execution_count": 1,
   "id": "71716faa",
   "metadata": {},
   "outputs": [
    {
     "name": "stdout",
     "output_type": "stream",
     "text": [
      "h\n",
      "e\n",
      "l\n",
      "l\n",
      "o\n",
      ",\n",
      " \n",
      "w\n",
      "o\n",
      "r\n",
      "l\n",
      "d\n"
     ]
    }
   ],
   "source": [
    "for letter in \"hello, world\":\n",
    "    print(letter)"
   ]
  },
  {
   "cell_type": "markdown",
   "id": "a5a7853e",
   "metadata": {},
   "source": [
    "# Problem 1\n",
    "\n",
    "### Given two strings (string_a and string_b) create a function that checks whether or not they are anagrams of each other, considering the following criteria:\n",
    "\n",
    "Two strings are only anagrams of each other if:\n",
    "\n",
    "1. They are of exactly the same length\n",
    "2. They are of exactly the same characters (no more, no less).\n",
    "\n",
    "```\n",
    "\n",
    "Examples:\n",
    "cars and scar\n",
    "heart and earth\n",
    "```"
   ]
  },
  {
   "cell_type": "code",
   "execution_count": 2,
   "id": "b15163f1",
   "metadata": {},
   "outputs": [],
   "source": [
    "#Avoid this:\n",
    "# def are_anagrams(string_a, string_b)\n",
    "#     return sorted(string_a) == sorted(string_b)\n",
    "\n"
   ]
  },
  {
   "cell_type": "code",
   "execution_count": 7,
   "id": "58e0920a",
   "metadata": {},
   "outputs": [],
   "source": [
    "def get_str_len(mystr):\n",
    "    counter = 0\n",
    "    for i in range(len(mystr)):\n",
    "        counter += 1\n",
    "        return counter\n",
    "\n",
    "def are_anagrams(string_a, string_b):\n",
    "    if len(string_a) != len(string_b):                    # Covering the \"length\" case.\n",
    "        return False                                      # If our strings are of unequal length, then 0(1) - constant\n",
    "    char_times_a = dict()                                 # These dictionary will track which characters we've seen\n",
    "    char_times_b = dict()                                 # Each key is every character, and values are times seen\n",
    "    for i in range(len(string_a)):                        # loop from 0 to the length of string a\n",
    "        if string_a[i] not in char_times_a.keys():        # Every time we loop, we check if the character at index \"i\"\n",
    "            char_times_a[string_a[i]] = 1                 # If it isn't, create a new dict entry and give it a value 1\n",
    "        else:                                             # representing we've seen it once.\n",
    "            char_times_a[string_a[i]] += 1                # If it is, add 1 to whatever the current value is.\n",
    "        if string_b[i] not in char_times_b.keys():        # We do the same for string_b\n",
    "            char_times_b[string_b[i]] = 1\n",
    "        else:\n",
    "            char_times_b[string_b[i]] += 1\n",
    "    return char_times_a == char_times_b                   # Return the comparison between char_times_a and char_times_b\n",
    "                                                          # This will return True if they are equal, False otherwise."
   ]
  },
  {
   "cell_type": "code",
   "execution_count": 8,
   "id": "176d0931",
   "metadata": {},
   "outputs": [
    {
     "data": {
      "text/plain": [
       "True"
      ]
     },
     "execution_count": 8,
     "metadata": {},
     "output_type": "execute_result"
    }
   ],
   "source": [
    "are_anagrams(\"cars\", \"scar\")"
   ]
  },
  {
   "cell_type": "markdown",
   "id": "1202fbdb",
   "metadata": {},
   "source": [
    "Homework:\n",
    "\n",
    "The function above (are_anagrams) must be edited such that:\n",
    "\n",
    "are_anagrams(\"I am Lord Voldemort\", \"Tom Marvolo Riddle\") returns True"
   ]
  },
  {
   "cell_type": "code",
   "execution_count": 43,
   "id": "2666022a",
   "metadata": {},
   "outputs": [],
   "source": [
    "def get_str_len(mystr):\n",
    "    counter = 0\n",
    "    for i in range(len(mystr)):\n",
    "        counter += 1\n",
    "        return counter\n",
    "\n",
    "def are_anagrams(string_a, string_b):\n",
    "    string_a = string_a.replace(\" \",\"\").lower()\n",
    "    string_b = string_b.replace(\" \",\"\").lower()\n",
    "    if len(string_a) != len(string_b):                    \n",
    "        return False                                      \n",
    "    char_times_a = dict()                                 \n",
    "    char_times_b = dict()\n",
    "    for i in range(len(string_a)):                        \n",
    "        if string_a[i] not in char_times_a.keys():        \n",
    "            char_times_a[string_a[i]] = 1                 \n",
    "        else:                                             \n",
    "            char_times_a[string_a[i]] += 1\n",
    "        if string_b[i] not in char_times_b.keys():        \n",
    "            char_times_b[string_b[i]] = 1\n",
    "        else:\n",
    "            char_times_b[string_b[i]] += 1\n",
    "    return char_times_a == char_times_b"
   ]
  },
  {
   "cell_type": "code",
   "execution_count": 44,
   "id": "b9c0f6b8",
   "metadata": {
    "scrolled": false
   },
   "outputs": [
    {
     "data": {
      "text/plain": [
       "True"
      ]
     },
     "execution_count": 44,
     "metadata": {},
     "output_type": "execute_result"
    }
   ],
   "source": [
    "are_anagrams(\"I am Lord Voldemort\", \"Tom Marvolo Riddle\")"
   ]
  },
  {
   "cell_type": "code",
   "execution_count": null,
   "id": "e9f9cdf9",
   "metadata": {},
   "outputs": [],
   "source": []
  }
 ],
 "metadata": {
  "kernelspec": {
   "display_name": "Python 3 (ipykernel)",
   "language": "python",
   "name": "python3"
  },
  "language_info": {
   "codemirror_mode": {
    "name": "ipython",
    "version": 3
   },
   "file_extension": ".py",
   "mimetype": "text/x-python",
   "name": "python",
   "nbconvert_exporter": "python",
   "pygments_lexer": "ipython3",
   "version": "3.10.6"
  }
 },
 "nbformat": 4,
 "nbformat_minor": 5
}
