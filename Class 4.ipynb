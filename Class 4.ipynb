{
 "cells": [
  {
   "cell_type": "code",
   "execution_count": 2,
   "id": "1b37e45d",
   "metadata": {},
   "outputs": [],
   "source": [
    "class Node:\n",
    "    def __init__(self, data):\n",
    "        self.data = data\n",
    "        self.next = None\n",
    "        \n",
    "class SinglyLinkedList:\n",
    "    def __init__(self):\n",
    "        self.head = None\n",
    "        \n",
    "    def append(self, element):\n",
    "        node = Node(element)\n",
    "        if not self.head: # if self.head == None\n",
    "            self.head = node\n",
    "        else:\n",
    "            current = self.head\n",
    "            while current.next:\n",
    "                current = current.next\n",
    "            current.next = node\n",
    "            \n",
    "    def insert(self, index, value):\n",
    "        node = Node(value)\n",
    "        if not self.head:\n",
    "            self.head = node\n",
    "        else:\n",
    "            if index == 0:\n",
    "                node.next = self.head\n",
    "                self.head = node\n",
    "            else:\n",
    "                current = self.head\n",
    "                prev = None\n",
    "                counter = 0\n",
    "                while current.next and counter != index:\n",
    "                    prev = current\n",
    "                    current = current.next\n",
    "                    counter += 1\n",
    "                if counter == index:\n",
    "                    prev.next = node\n",
    "                    node.next = current\n",
    "                else:\n",
    "                    current.next = node\n",
    "                \n",
    "    def __str__(self):\n",
    "        out_str = \"[\"\n",
    "        if self.head:\n",
    "            out_str += \"%s\" % self.head.data\n",
    "            current = self.head.next\n",
    "            while current:\n",
    "                out_str += \", %s\" % current.data\n",
    "                current = current.next\n",
    "        out_str += \"]\"\n",
    "        return out_str\n",
    "    \n",
    "            "
   ]
  },
  {
   "cell_type": "code",
   "execution_count": 8,
   "id": "7d4b7265",
   "metadata": {},
   "outputs": [
    {
     "name": "stdout",
     "output_type": "stream",
     "text": [
      "[1, 2, 3, 4, 5]\n",
      "Our list: \n",
      "[1, 2, 3, 4, 5]\n"
     ]
    }
   ],
   "source": [
    "python_list = [1, 2, 3, 4, 5]\n",
    "\n",
    "print(python_list)\n",
    "\n",
    "print(\"Our list: \")\n",
    "\n",
    "sll = SinglyLinkedList()\n",
    "for number in range(1, 6):\n",
    "    sll.append(number)\n",
    "    \n",
    "print(sll)"
   ]
  },
  {
   "cell_type": "markdown",
   "id": "d0f55b66",
   "metadata": {},
   "source": [
    "# Problem 4\n",
    "\n",
    "### Implement the \"insert\" method in our SLL class\n",
    "\n",
    "At a minimum the insert method should cover the 5 use cases we've discussed:\n",
    "1. Insert before the head\n",
    "2. Insert on an empty list\n",
    "3. Insert on an empty list but with an unreachable index\n",
    "4. Insert on a list with N elements but with an unreachable index\n",
    "5. Insert anywhere in the middle of a list (anywhere between the head and the tail)\n",
    "\n",
    "`Note: Remember the insert method adds a new node before a given index, not after."
   ]
  },
  {
   "cell_type": "code",
   "execution_count": 7,
   "id": "b73580ac",
   "metadata": {},
   "outputs": [
    {
     "name": "stdout",
     "output_type": "stream",
     "text": [
      "[1]\n",
      "[0, 1]\n",
      "[0, 1, 3]\n",
      "[0, 1, 2, 3]\n",
      "[A]\n"
     ]
    }
   ],
   "source": [
    "sll = SinglyLinkedList()\n",
    "\n",
    "# Insert on an empty list\n",
    "\n",
    "sll.insert(0, 1)\n",
    "\n",
    "print(sll)\n",
    "\n",
    "sll.insert(0, 0)\n",
    "\n",
    "print(sll)\n",
    "\n",
    "sll.insert(1000, 3)\n",
    "\n",
    "print(sll)\n",
    "\n",
    "sll.insert(2, 2)\n",
    "\n",
    "print(sll)\n",
    "\n",
    "sll2 = SinglyLinkedList()\n",
    "\n",
    "sll2.insert(1000, \"A\")\n",
    "\n",
    "print(sll2)\n"
   ]
  },
  {
   "cell_type": "code",
   "execution_count": null,
   "id": "36993135",
   "metadata": {},
   "outputs": [],
   "source": []
  }
 ],
 "metadata": {
  "kernelspec": {
   "display_name": "Python 3 (ipykernel)",
   "language": "python",
   "name": "python3"
  },
  "language_info": {
   "codemirror_mode": {
    "name": "ipython",
    "version": 3
   },
   "file_extension": ".py",
   "mimetype": "text/x-python",
   "name": "python",
   "nbconvert_exporter": "python",
   "pygments_lexer": "ipython3",
   "version": "3.10.6"
  }
 },
 "nbformat": 4,
 "nbformat_minor": 5
}
