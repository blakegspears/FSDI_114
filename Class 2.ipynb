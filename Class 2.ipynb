{
 "cells": [
  {
   "cell_type": "code",
   "execution_count": 1,
   "id": "0f2e6e3e",
   "metadata": {},
   "outputs": [],
   "source": [
    "class Stack:\n",
    "    def __init__(self):\n",
    "        self.items =[]\n",
    "        \n",
    "    def push(self, element):\n",
    "        return self.items.append(element)\n",
    "    \n",
    "    def pop(self):\n",
    "        return self.items.pop()\n",
    "    \n",
    "    def __len__(self):\n",
    "        return len(self.items)\n",
    "    \n",
    "    def peek(self):\n",
    "        return self.items[len(self.items)-1]\n",
    "    \n",
    "    def is_empty(self):\n",
    "        return self.items == []"
   ]
  },
  {
   "cell_type": "code",
   "execution_count": 3,
   "id": "d7668c90",
   "metadata": {},
   "outputs": [
    {
     "name": "stdout",
     "output_type": "stream",
     "text": [
      "[6, 5, 4, 3, 2, 1]\n"
     ]
    }
   ],
   "source": [
    "numbers = [1, 2, 3, 4, 5, 6]\n",
    "\n",
    "stack = Stack()\n",
    "\n",
    "for number in numbers:\n",
    "    stack.push(number)\n",
    "    \n",
    "out = []\n",
    "\n",
    "while not stack.is_empty():\n",
    "    element = stack.pop()\n",
    "    out.append(element)\n",
    "    \n",
    "print(out)"
   ]
  },
  {
   "cell_type": "code",
   "execution_count": 4,
   "id": "c262bc86",
   "metadata": {},
   "outputs": [],
   "source": [
    "class Node:\n",
    "    def __init__(self, data):\n",
    "        self.data = data\n",
    "        self.above = None\n",
    "        \n",
    "class Stack:\n",
    "    def __init__(self):\n",
    "        self.base = None\n",
    "        \n",
    "    def push(self, element):\n",
    "        if self.base == None:\n",
    "            self.base = node\n",
    "        else:\n",
    "            current = self.base\n",
    "            while current.above != None:\n",
    "                current = current.above\n",
    "            current.above = node\n",
    "            \n",
    "    def pop(self):\n",
    "        if self.base != None:\n",
    "            if self.base.above != None:\n",
    "                current = self.base\n",
    "                previous = None\n",
    "                while current.above:\n",
    "                    previous = current\n",
    "                    current = current.above\n",
    "                previous.above = None\n",
    "                return current.data\n",
    "            else:\n",
    "                data = self.base.data\n",
    "                self.base = None\n",
    "                return data\n",
    "        raise IndexError(\"Stack is empty.\")\n",
    "        \n",
    "    def is_empty(self):\n",
    "        return self.base == None\n",
    "    \n",
    "    def __len__(self):\n",
    "        if not self.base:\n",
    "            return 0\n",
    "        else:\n",
    "            current = self.base\n",
    "            counter = 0\n",
    "            while current:\n",
    "                counter +=1\n",
    "                current = current.above\n",
    "            return counter\n",
    "    \n",
    "    def peek(self):\n",
    "        pass"
   ]
  },
  {
   "cell_type": "code",
   "execution_count": 5,
   "id": "34b8dba9",
   "metadata": {},
   "outputs": [
    {
     "name": "stdout",
     "output_type": "stream",
     "text": [
      "5\n"
     ]
    }
   ],
   "source": [
    "# pass by value\n",
    "\n",
    "# integers\n",
    "# floats\n",
    "# booleans\n",
    "# complex numbers\n",
    "\n",
    "x = 5\n",
    "y = x\n",
    "\n",
    "x = x - 1\n",
    "\n",
    "print(y)"
   ]
  },
  {
   "cell_type": "code",
   "execution_count": 6,
   "id": "2367f3db",
   "metadata": {},
   "outputs": [
    {
     "name": "stdout",
     "output_type": "stream",
     "text": [
      "[1, 2, 3, 4, 5, 6]\n"
     ]
    }
   ],
   "source": [
    "# pass by reference\n",
    "\n",
    "x = [1, 2, 3, 4, 5]\n",
    "\n",
    "y = x\n",
    "\n",
    "x.append(6)\n",
    "\n",
    "print(y)"
   ]
  },
  {
   "cell_type": "code",
   "execution_count": 8,
   "id": "236d6311",
   "metadata": {},
   "outputs": [],
   "source": [
    "# simple queue implementation\n",
    "\n",
    "class Queue:\n",
    "    def __init__(self):\n",
    "        self.items = []\n",
    "        \n",
    "    def enqueue(self, element):\n",
    "        self.items.append(element)\n",
    "        \n",
    "    def dequeue(self):\n",
    "        return self.items.pop(0)\n",
    "    \n",
    "    def is_empty(self):\n",
    "        return self.items == []\n",
    "    \n",
    "    def peek(self):\n",
    "        return self.items[len(self.items)-1]\n",
    "    \n",
    "    def __len__(self):\n",
    "        return len(self.items)"
   ]
  },
  {
   "cell_type": "code",
   "execution_count": null,
   "id": "7ca8aab2",
   "metadata": {},
   "outputs": [],
   "source": []
  }
 ],
 "metadata": {
  "kernelspec": {
   "display_name": "Python 3 (ipykernel)",
   "language": "python",
   "name": "python3"
  },
  "language_info": {
   "codemirror_mode": {
    "name": "ipython",
    "version": 3
   },
   "file_extension": ".py",
   "mimetype": "text/x-python",
   "name": "python",
   "nbconvert_exporter": "python",
   "pygments_lexer": "ipython3",
   "version": "3.10.6"
  }
 },
 "nbformat": 4,
 "nbformat_minor": 5
}
